{
 "cells": [
  {
   "cell_type": "code",
   "execution_count": 230,
   "id": "a4d14079-1114-4aa6-a1d0-09a0511411c0",
   "metadata": {},
   "outputs": [],
   "source": [
    "import numpy as np\n",
    "import pandas as pd\n",
    "\n",
    "import os\n",
    "for dirname, _, filenames in os.walk('/kaggle/input'):\n",
    "    for filename in filenames:\n",
    "        print(os.path.join(dirname, filename))"
   ]
  },
  {
   "cell_type": "code",
   "execution_count": 231,
   "id": "ab47b9bf-3bca-42af-940c-c79de44368c9",
   "metadata": {},
   "outputs": [
    {
     "data": {
      "text/html": [
       "<div>\n",
       "<style scoped>\n",
       "    .dataframe tbody tr th:only-of-type {\n",
       "        vertical-align: middle;\n",
       "    }\n",
       "\n",
       "    .dataframe tbody tr th {\n",
       "        vertical-align: top;\n",
       "    }\n",
       "\n",
       "    .dataframe thead th {\n",
       "        text-align: right;\n",
       "    }\n",
       "</style>\n",
       "<table border=\"1\" class=\"dataframe\">\n",
       "  <thead>\n",
       "    <tr style=\"text-align: right;\">\n",
       "      <th></th>\n",
       "      <th>RIAGENDR</th>\n",
       "      <th>PAQ605</th>\n",
       "      <th>BMXBMI</th>\n",
       "      <th>LBXGLU</th>\n",
       "      <th>DIQ010</th>\n",
       "      <th>LBXGLT</th>\n",
       "      <th>LBXIN</th>\n",
       "      <th>age_group</th>\n",
       "    </tr>\n",
       "  </thead>\n",
       "  <tbody>\n",
       "    <tr>\n",
       "      <th>0</th>\n",
       "      <td>2.0</td>\n",
       "      <td>2.0</td>\n",
       "      <td>35.7</td>\n",
       "      <td>110.0</td>\n",
       "      <td>2.0</td>\n",
       "      <td>150.0</td>\n",
       "      <td>14.91</td>\n",
       "      <td>Adult</td>\n",
       "    </tr>\n",
       "    <tr>\n",
       "      <th>1</th>\n",
       "      <td>2.0</td>\n",
       "      <td>2.0</td>\n",
       "      <td>20.3</td>\n",
       "      <td>89.0</td>\n",
       "      <td>2.0</td>\n",
       "      <td>80.0</td>\n",
       "      <td>3.85</td>\n",
       "      <td>Adult</td>\n",
       "    </tr>\n",
       "    <tr>\n",
       "      <th>2</th>\n",
       "      <td>1.0</td>\n",
       "      <td>2.0</td>\n",
       "      <td>23.2</td>\n",
       "      <td>89.0</td>\n",
       "      <td>2.0</td>\n",
       "      <td>68.0</td>\n",
       "      <td>6.14</td>\n",
       "      <td>Adult</td>\n",
       "    </tr>\n",
       "    <tr>\n",
       "      <th>3</th>\n",
       "      <td>1.0</td>\n",
       "      <td>2.0</td>\n",
       "      <td>28.9</td>\n",
       "      <td>104.0</td>\n",
       "      <td>NaN</td>\n",
       "      <td>84.0</td>\n",
       "      <td>16.15</td>\n",
       "      <td>Adult</td>\n",
       "    </tr>\n",
       "    <tr>\n",
       "      <th>4</th>\n",
       "      <td>2.0</td>\n",
       "      <td>1.0</td>\n",
       "      <td>35.9</td>\n",
       "      <td>103.0</td>\n",
       "      <td>2.0</td>\n",
       "      <td>81.0</td>\n",
       "      <td>10.92</td>\n",
       "      <td>Adult</td>\n",
       "    </tr>\n",
       "  </tbody>\n",
       "</table>\n",
       "</div>"
      ],
      "text/plain": [
       "   RIAGENDR  PAQ605  BMXBMI  LBXGLU  DIQ010  LBXGLT  LBXIN age_group\n",
       "0       2.0     2.0    35.7   110.0     2.0   150.0  14.91     Adult\n",
       "1       2.0     2.0    20.3    89.0     2.0    80.0   3.85     Adult\n",
       "2       1.0     2.0    23.2    89.0     2.0    68.0   6.14     Adult\n",
       "3       1.0     2.0    28.9   104.0     NaN    84.0  16.15     Adult\n",
       "4       2.0     1.0    35.9   103.0     2.0    81.0  10.92     Adult"
      ]
     },
     "execution_count": 231,
     "metadata": {},
     "output_type": "execute_result"
    }
   ],
   "source": [
    "df = pd.read_csv(\"C:\\\\Users\\\\LENOVO\\\\Desktop\\\\Train_Data.csv\")\n",
    "df.drop(columns=['SEQN'], inplace=True)\n",
    "df.head(5)"
   ]
  },
  {
   "cell_type": "code",
   "execution_count": 232,
   "id": "0fb6ffe1-bc39-4bdf-b1d6-3e40f1a20023",
   "metadata": {},
   "outputs": [
    {
     "name": "stdout",
     "output_type": "stream",
     "text": [
      "[ 2.  1. nan  7.]\n",
      "[ 2. nan  1.  3.]\n",
      "['Adult' 'Senior' nan]\n"
     ]
    }
   ],
   "source": [
    "print(df['PAQ605'].unique())\n",
    "print(df['DIQ010'].unique())\n",
    "print(df['age_group'].unique())"
   ]
  },
  {
   "cell_type": "code",
   "execution_count": 233,
   "id": "0da07c41-4c7e-4df2-ab50-103bae64bfe7",
   "metadata": {},
   "outputs": [
    {
     "data": {
      "text/plain": [
       "RIAGENDR     18\n",
       "PAQ605       13\n",
       "BMXBMI       18\n",
       "LBXGLU       13\n",
       "DIQ010       18\n",
       "LBXGLT       11\n",
       "LBXIN         9\n",
       "age_group    14\n",
       "dtype: int64"
      ]
     },
     "execution_count": 233,
     "metadata": {},
     "output_type": "execute_result"
    }
   ],
   "source": [
    "df.isnull().sum()"
   ]
  },
  {
   "cell_type": "code",
   "execution_count": 234,
   "id": "8c9aa807-42ae-4612-988a-b6e53c95eb01",
   "metadata": {},
   "outputs": [
    {
     "data": {
      "text/plain": [
       "RIAGENDR     18\n",
       "PAQ605       13\n",
       "BMXBMI       18\n",
       "LBXGLU       13\n",
       "DIQ010       18\n",
       "LBXGLT       11\n",
       "LBXIN         9\n",
       "age_group     0\n",
       "dtype: int64"
      ]
     },
     "execution_count": 234,
     "metadata": {},
     "output_type": "execute_result"
    }
   ],
   "source": [
    "df = df.dropna(subset=['age_group'])\n",
    "df.isnull().sum()"
   ]
  },
  {
   "cell_type": "code",
   "execution_count": 235,
   "id": "4e6ea0a3-e7ea-4f21-b694-682420e618ec",
   "metadata": {},
   "outputs": [
    {
     "data": {
      "text/plain": [
       "RIAGENDR     18\n",
       "PAQ605        0\n",
       "BMXBMI        0\n",
       "LBXGLU       13\n",
       "DIQ010       18\n",
       "LBXGLT       11\n",
       "LBXIN         9\n",
       "age_group     0\n",
       "dtype: int64"
      ]
     },
     "execution_count": 235,
     "metadata": {},
     "output_type": "execute_result"
    }
   ],
   "source": [
    "adult_mean = df.loc[df['age_group'] == 'Adult', 'PAQ605'].mean()\n",
    "senior_mean = df.loc[df['age_group'] == 'Senior', 'PAQ605'].mean()\n",
    "\n",
    "df.loc[(df['age_group'] == 'Adult') & (df['PAQ605'].isna()), 'PAQ605'] = adult_mean\n",
    "df.loc[(df['age_group'] == 'Senior') & (df['PAQ605'].isna()), 'PAQ605'] = senior_mean\n",
    "\n",
    "\n",
    "adult_mean = df.loc[df['age_group'] == 'Adult', 'BMXBMI'].mean()\n",
    "senior_mean = df.loc[df['age_group'] == 'Senior', 'BMXBMI'].mean()\n",
    "\n",
    "df.loc[(df['age_group'] == 'Adult') & (df['BMXBMI'].isna()), 'BMXBMI'] = adult_mean\n",
    "df.loc[(df['age_group'] == 'Senior') & (df['BMXBMI'].isna()), 'BMXBMI'] = senior_mean\n",
    "\n",
    "\n",
    "df.isnull().sum()"
   ]
  },
  {
   "cell_type": "code",
   "execution_count": 236,
   "id": "686d5821-a948-4fc1-8e15-4f91fc10b654",
   "metadata": {},
   "outputs": [
    {
     "data": {
      "text/plain": [
       "array([0, 1])"
      ]
     },
     "execution_count": 236,
     "metadata": {},
     "output_type": "execute_result"
    }
   ],
   "source": [
    "from sklearn.preprocessing import LabelEncoder\n",
    "\n",
    "le_age = LabelEncoder()\n",
    "df['age_group'] = le_age.fit_transform(df['age_group'])\n",
    "\n",
    "df['age_group'].unique()"
   ]
  },
  {
   "cell_type": "code",
   "execution_count": 237,
   "id": "f1f31eed-48ab-42c4-b70c-92b923e170de",
   "metadata": {},
   "outputs": [],
   "source": [
    "from sklearn.ensemble import RandomForestClassifier\n",
    "from sklearn.preprocessing import LabelEncoder, OneHotEncoder\n",
    "import pandas as pd\n",
    "\n",
    "def model_impute(df, target_col, feature_cols):\n",
    "    known = df[df[target_col].notna()]\n",
    "    unknown = df[df[target_col].isna()]\n",
    "    \n",
    "    X_train = known[feature_cols].dropna()\n",
    "    y_train = known.loc[X_train.index, target_col]\n",
    "    \n",
    "    rf = RandomForestClassifier(random_state=42)\n",
    "    rf.fit(X_train, y_train)\n",
    "    \n",
    "    X_pred = unknown[feature_cols].dropna()\n",
    "    y_pred = rf.predict(X_pred)\n",
    "    \n",
    "    df.loc[X_pred.index, target_col] = y_pred\n",
    "    return df"
   ]
  },
  {
   "cell_type": "code",
   "execution_count": 238,
   "id": "3d8ece0b-88d2-4366-8563-e5874ae0e003",
   "metadata": {},
   "outputs": [],
   "source": [
    "from sklearn.ensemble import RandomForestRegressor\n",
    "from sklearn.preprocessing import LabelEncoder\n",
    "import pandas as pd\n",
    "\n",
    "def model_impute_regression(df, target_col, feature_cols):\n",
    "    known = df[df[target_col].notna()]\n",
    "    unknown = df[df[target_col].isna()]\n",
    "    \n",
    "    X_train = known[feature_cols].dropna()\n",
    "    y_train = known.loc[X_train.index, target_col]\n",
    "\n",
    "    rf = RandomForestRegressor(random_state=42)\n",
    "    rf.fit(X_train, y_train)\n",
    "\n",
    "    X_pred = unknown[feature_cols].dropna()\n",
    "    y_pred = rf.predict(X_pred)\n",
    "\n",
    "    df.loc[X_pred.index, target_col] = y_pred\n",
    "\n",
    "    return df"
   ]
  },
  {
   "cell_type": "code",
   "execution_count": 239,
   "id": "693f0ddf-eeb4-4d51-9fa0-baf7795bcc33",
   "metadata": {},
   "outputs": [
    {
     "data": {
      "text/plain": [
       "RIAGENDR     0\n",
       "PAQ605       0\n",
       "BMXBMI       0\n",
       "LBXGLU       0\n",
       "DIQ010       0\n",
       "LBXGLT       0\n",
       "LBXIN        0\n",
       "age_group    0\n",
       "dtype: int64"
      ]
     },
     "execution_count": 239,
     "metadata": {},
     "output_type": "execute_result"
    }
   ],
   "source": [
    "df = model_impute(df, 'RIAGENDR', ['BMXBMI', 'age_group', 'PAQ605'])\n",
    "df = model_impute_regression(df, 'LBXIN', ['BMXBMI', 'age_group', 'PAQ605', 'RIAGENDR'])\n",
    "df = model_impute_regression(df, 'LBXGLU', ['BMXBMI', 'age_group', 'PAQ605', 'RIAGENDR', 'LBXIN'])\n",
    "df = model_impute_regression(df, 'LBXGLT', ['BMXBMI', 'age_group', 'PAQ605', 'RIAGENDR', 'LBXIN', 'LBXGLU'])\n",
    "df = model_impute(df, 'DIQ010', ['BMXBMI', 'age_group', 'PAQ605', 'RIAGENDR', 'LBXIN', 'LBXGLU', 'LBXGLT'])\n",
    "df.isnull().sum()"
   ]
  },
  {
   "cell_type": "code",
   "execution_count": 240,
   "id": "689dbf17-dcd0-4c51-a338-c859612ada1e",
   "metadata": {},
   "outputs": [],
   "source": [
    "from sklearn.ensemble import GradientBoostingClassifier\n",
    "from sklearn.model_selection import train_test_split\n",
    "from sklearn.metrics import classification_report\n",
    "\n",
    "X = df.drop(columns=['age_group'])\n",
    "y = df['age_group']\n",
    "\n",
    "X_train, X_test, y_train, y_test = train_test_split(X, y, test_size=0.2, random_state=42)\n",
    "\n",
    "model = GradientBoostingClassifier(n_estimators=100, learning_rate=0.1, max_depth=3, random_state=42)\n",
    "model.fit(X_train, y_train)\n",
    "\n",
    "y_pred = model.predict(X_test)"
   ]
  },
  {
   "cell_type": "code",
   "execution_count": 241,
   "id": "22365706-2e8f-4025-95c6-0f084093c7d9",
   "metadata": {},
   "outputs": [],
   "source": [
    "from sklearn.ensemble import GradientBoostingClassifier\n",
    "from sklearn.model_selection import GridSearchCV\n",
    "\n",
    "X = df.drop(columns=['age_group'])\n",
    "y = df['age_group']\n",
    "\n",
    "X_train, X_test, y_train, y_test = train_test_split(X, y, test_size=0.2, random_state=42)\n",
    "\n",
    "param_grid = {\n",
    "    'n_estimators': [100, 200],\n",
    "    'learning_rate': [0.05, 0.1],\n",
    "    'max_depth': [2, 3, 4],\n",
    "    'subsample': [0.8, 1.0]\n",
    "}\n",
    "\n",
    "model = GradientBoostingClassifier(random_state=42)\n",
    "\n",
    "grid_search = GridSearchCV(\n",
    "    estimator=model,\n",
    "    param_grid=param_grid,\n",
    "    cv=5,\n",
    "    scoring='f1_weighted',  # or use 'f1_macro' if you care about both classes equally\n",
    "    n_jobs=-1\n",
    ")\n",
    "\n",
    "grid_search.fit(X_train, y_train)\n",
    "\n",
    "best_model = grid_search.best_estimator_\n",
    "\n",
    "y_pred = best_model.predict(X_test)"
   ]
  },
  {
   "cell_type": "code",
   "execution_count": 242,
   "id": "82d8168d-f4f5-400d-90c3-5ac47356ece7",
   "metadata": {},
   "outputs": [
    {
     "name": "stdout",
     "output_type": "stream",
     "text": [
      "              precision    recall  f1-score   support\n",
      "\n",
      "       Adult       0.89      0.97      0.93       340\n",
      "      Senior       0.52      0.24      0.32        51\n",
      "\n",
      "    accuracy                           0.87       391\n",
      "   macro avg       0.71      0.60      0.63       391\n",
      "weighted avg       0.85      0.87      0.85       391\n",
      "\n"
     ]
    }
   ],
   "source": [
    "print(classification_report(\n",
    "    y_test,\n",
    "    y_pred,\n",
    "    labels=list(range(len(label_encoder.classes_))),\n",
    "    target_names=label_encoder.classes_\n",
    "))"
   ]
  },
  {
   "cell_type": "code",
   "execution_count": 243,
   "id": "c6cbefaf-27c9-41d7-a2cd-c8012b13078d",
   "metadata": {},
   "outputs": [
    {
     "data": {
      "text/html": [
       "<div>\n",
       "<style scoped>\n",
       "    .dataframe tbody tr th:only-of-type {\n",
       "        vertical-align: middle;\n",
       "    }\n",
       "\n",
       "    .dataframe tbody tr th {\n",
       "        vertical-align: top;\n",
       "    }\n",
       "\n",
       "    .dataframe thead th {\n",
       "        text-align: right;\n",
       "    }\n",
       "</style>\n",
       "<table border=\"1\" class=\"dataframe\">\n",
       "  <thead>\n",
       "    <tr style=\"text-align: right;\">\n",
       "      <th></th>\n",
       "      <th>SEQN</th>\n",
       "      <th>RIAGENDR</th>\n",
       "      <th>PAQ605</th>\n",
       "      <th>BMXBMI</th>\n",
       "      <th>LBXGLU</th>\n",
       "      <th>DIQ010</th>\n",
       "      <th>LBXGLT</th>\n",
       "      <th>LBXIN</th>\n",
       "    </tr>\n",
       "  </thead>\n",
       "  <tbody>\n",
       "    <tr>\n",
       "      <th>0</th>\n",
       "      <td>77017.0</td>\n",
       "      <td>1.0</td>\n",
       "      <td>1.0</td>\n",
       "      <td>32.2</td>\n",
       "      <td>96.0</td>\n",
       "      <td>2.0</td>\n",
       "      <td>135.0</td>\n",
       "      <td>15.11</td>\n",
       "    </tr>\n",
       "    <tr>\n",
       "      <th>1</th>\n",
       "      <td>75580.0</td>\n",
       "      <td>2.0</td>\n",
       "      <td>2.0</td>\n",
       "      <td>26.3</td>\n",
       "      <td>100.0</td>\n",
       "      <td>2.0</td>\n",
       "      <td>141.0</td>\n",
       "      <td>15.26</td>\n",
       "    </tr>\n",
       "    <tr>\n",
       "      <th>2</th>\n",
       "      <td>73820.0</td>\n",
       "      <td>1.0</td>\n",
       "      <td>2.0</td>\n",
       "      <td>28.6</td>\n",
       "      <td>107.0</td>\n",
       "      <td>2.0</td>\n",
       "      <td>136.0</td>\n",
       "      <td>8.82</td>\n",
       "    </tr>\n",
       "    <tr>\n",
       "      <th>3</th>\n",
       "      <td>80489.0</td>\n",
       "      <td>2.0</td>\n",
       "      <td>1.0</td>\n",
       "      <td>22.1</td>\n",
       "      <td>93.0</td>\n",
       "      <td>2.0</td>\n",
       "      <td>111.0</td>\n",
       "      <td>12.13</td>\n",
       "    </tr>\n",
       "    <tr>\n",
       "      <th>4</th>\n",
       "      <td>82047.0</td>\n",
       "      <td>1.0</td>\n",
       "      <td>1.0</td>\n",
       "      <td>24.7</td>\n",
       "      <td>91.0</td>\n",
       "      <td>2.0</td>\n",
       "      <td>105.0</td>\n",
       "      <td>3.12</td>\n",
       "    </tr>\n",
       "  </tbody>\n",
       "</table>\n",
       "</div>"
      ],
      "text/plain": [
       "      SEQN  RIAGENDR  PAQ605  BMXBMI  LBXGLU  DIQ010  LBXGLT  LBXIN\n",
       "0  77017.0       1.0     1.0    32.2    96.0     2.0   135.0  15.11\n",
       "1  75580.0       2.0     2.0    26.3   100.0     2.0   141.0  15.26\n",
       "2  73820.0       1.0     2.0    28.6   107.0     2.0   136.0   8.82\n",
       "3  80489.0       2.0     1.0    22.1    93.0     2.0   111.0  12.13\n",
       "4  82047.0       1.0     1.0    24.7    91.0     2.0   105.0   3.12"
      ]
     },
     "execution_count": 243,
     "metadata": {},
     "output_type": "execute_result"
    }
   ],
   "source": [
    "test_df = pd.read_csv(\"C:\\\\Users\\\\LENOVO\\\\Desktop\\\\Test_Data.csv\")\n",
    "test_df.head(5)"
   ]
  },
  {
   "cell_type": "code",
   "execution_count": 244,
   "id": "346bf215-ea27-4322-bd67-d5f9cc0b4cc6",
   "metadata": {},
   "outputs": [
    {
     "data": {
      "text/plain": [
       "SEQN        2\n",
       "RIAGENDR    2\n",
       "PAQ605      1\n",
       "BMXBMI      1\n",
       "LBXGLU      1\n",
       "DIQ010      1\n",
       "LBXGLT      2\n",
       "LBXIN       1\n",
       "dtype: int64"
      ]
     },
     "execution_count": 244,
     "metadata": {},
     "output_type": "execute_result"
    }
   ],
   "source": [
    "test_df.isnull().sum()"
   ]
  },
  {
   "cell_type": "code",
   "execution_count": 245,
   "id": "1b2b914d-cfb7-4d86-9454-b09e98934768",
   "metadata": {},
   "outputs": [
    {
     "data": {
      "text/plain": [
       "SEQN        2\n",
       "RIAGENDR    2\n",
       "PAQ605      0\n",
       "BMXBMI      0\n",
       "LBXGLU      1\n",
       "DIQ010      1\n",
       "LBXGLT      2\n",
       "LBXIN       1\n",
       "dtype: int64"
      ]
     },
     "execution_count": 245,
     "metadata": {},
     "output_type": "execute_result"
    }
   ],
   "source": [
    "test_df['BMXBMI'] = test_df['BMXBMI'].fillna(test_df['BMXBMI'].mean())\n",
    "test_df['PAQ605'] = test_df['PAQ605'].fillna(test_df['PAQ605'].mean())\n",
    "test_df.isnull().sum()"
   ]
  },
  {
   "cell_type": "code",
   "execution_count": 246,
   "id": "63f3d4d6-e944-4366-8414-4cdee04ae19d",
   "metadata": {},
   "outputs": [
    {
     "data": {
      "text/plain": [
       "SEQN        2\n",
       "RIAGENDR    0\n",
       "PAQ605      0\n",
       "BMXBMI      0\n",
       "LBXGLU      0\n",
       "DIQ010      0\n",
       "LBXGLT      0\n",
       "LBXIN       0\n",
       "dtype: int64"
      ]
     },
     "execution_count": 246,
     "metadata": {},
     "output_type": "execute_result"
    }
   ],
   "source": [
    "test_df = model_impute(test_df, 'RIAGENDR', ['BMXBMI', 'PAQ605'])\n",
    "test_df = model_impute_regression(test_df, 'LBXIN', ['BMXBMI', 'PAQ605', 'RIAGENDR'])\n",
    "test_df = model_impute_regression(test_df, 'LBXGLU', ['BMXBMI', 'PAQ605', 'RIAGENDR', 'LBXIN'])\n",
    "test_df = model_impute_regression(test_df, 'LBXGLT', ['BMXBMI', 'PAQ605', 'RIAGENDR', 'LBXIN', 'LBXGLU'])\n",
    "test_df = model_impute(test_df, 'DIQ010', ['BMXBMI', 'PAQ605', 'RIAGENDR', 'LBXIN', 'LBXGLU', 'LBXGLT'])\n",
    "test_df.isnull().sum()"
   ]
  },
  {
   "cell_type": "code",
   "execution_count": 247,
   "id": "d3561b2e-d829-4efa-ba3b-b9a36464d148",
   "metadata": {},
   "outputs": [],
   "source": [
    "SEQN=test_df['SEQN']\n",
    "test_df.drop(['SEQN'],axis=1,inplace=True)"
   ]
  },
  {
   "cell_type": "code",
   "execution_count": 248,
   "id": "60e61a77-91f1-4c38-8fc6-54f5e522e6c4",
   "metadata": {},
   "outputs": [
    {
     "data": {
      "text/plain": [
       "array([0, 0, 0, 0, 0, 0, 0, 1, 0, 0, 0, 0, 0, 0, 0, 0, 0, 0, 0, 0, 0, 0,\n",
       "       0, 0, 0, 0, 0, 0, 0, 0, 0, 0, 0, 1, 0, 0, 0, 0, 0, 0, 0, 0, 0, 0,\n",
       "       0, 0, 0, 0, 0, 1, 0, 0, 0, 1, 0, 0, 0, 0, 0, 1, 0, 0, 0, 0, 0, 0,\n",
       "       0, 1, 0, 0, 0, 0, 0, 0, 0, 0, 0, 0, 0, 0, 0, 0, 0, 0, 0, 0, 0, 0,\n",
       "       0, 0, 0, 0, 0, 0, 0, 1, 0, 0, 0, 0, 0, 0, 0, 0, 0, 0, 0, 0, 0, 0,\n",
       "       0, 0, 0, 0, 0, 0, 0, 0, 0, 0, 0, 0, 0, 0, 0, 0, 0, 0, 0, 0, 0, 0,\n",
       "       0, 0, 0, 0, 0, 0, 0, 0, 0, 1, 0, 0, 1, 0, 0, 0, 0, 0, 0, 0, 0, 0,\n",
       "       0, 0, 0, 0, 0, 0, 0, 0, 0, 1, 0, 0, 0, 0, 0, 0, 0, 0, 1, 0, 0, 0,\n",
       "       0, 0, 0, 0, 0, 0, 0, 0, 0, 0, 0, 0, 0, 0, 0, 0, 0, 0, 0, 0, 0, 0,\n",
       "       0, 0, 0, 0, 0, 0, 0, 0, 0, 0, 0, 0, 0, 0, 0, 0, 0, 0, 0, 1, 0, 0,\n",
       "       0, 0, 1, 0, 0, 0, 0, 0, 0, 0, 0, 0, 0, 0, 0, 0, 0, 0, 0, 0, 0, 0,\n",
       "       0, 0, 0, 0, 0, 0, 0, 1, 0, 0, 0, 0, 0, 0, 0, 0, 0, 0, 1, 0, 0, 1,\n",
       "       0, 0, 0, 0, 0, 0, 0, 0, 0, 0, 0, 0, 0, 0, 0, 0, 0, 0, 0, 0, 0, 0,\n",
       "       0, 1, 0, 0, 0, 0, 0, 0, 0, 0, 0, 0, 0, 0, 0, 0, 0, 0, 0, 0, 1, 0,\n",
       "       0, 0, 0, 0])"
      ]
     },
     "execution_count": 248,
     "metadata": {},
     "output_type": "execute_result"
    }
   ],
   "source": [
    "y_pred = best_model.predict(test_df)\n",
    "y_pred"
   ]
  },
  {
   "cell_type": "code",
   "execution_count": 251,
   "id": "fd14701a-ef8e-4c25-a67b-7fb6ef3a9a8d",
   "metadata": {},
   "outputs": [],
   "source": [
    "result = pd.DataFrame({\n",
    "    'age_group': y_pred\n",
    "})"
   ]
  },
  {
   "cell_type": "code",
   "execution_count": 252,
   "id": "b0c6440a-24dc-4c66-9999-1c2ddbfd1071",
   "metadata": {},
   "outputs": [],
   "source": [
    "result.to_csv(\"NidhiSummerAnalyticsWeek4Predictions.csv\", index=False)"
   ]
  },
  {
   "cell_type": "code",
   "execution_count": null,
   "id": "85476813-a76d-45d6-9e54-afd7161ab024",
   "metadata": {},
   "outputs": [],
   "source": []
  }
 ],
 "metadata": {
  "kernelspec": {
   "display_name": "Python [conda env:base] *",
   "language": "python",
   "name": "conda-base-py"
  },
  "language_info": {
   "codemirror_mode": {
    "name": "ipython",
    "version": 3
   },
   "file_extension": ".py",
   "mimetype": "text/x-python",
   "name": "python",
   "nbconvert_exporter": "python",
   "pygments_lexer": "ipython3",
   "version": "3.12.7"
  }
 },
 "nbformat": 4,
 "nbformat_minor": 5
}
